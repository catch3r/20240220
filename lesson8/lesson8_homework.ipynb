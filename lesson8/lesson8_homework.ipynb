{
 "cells": [
  {
   "cell_type": "code",
   "execution_count": 5,
   "metadata": {},
   "outputs": [
    {
     "name": "stdout",
     "output_type": "stream",
     "text": [
      "姓名: 徐xx, BMI: 24.6, 過重\n",
      "姓名: 王xx, BMI: 26.6, 過重\n",
      "姓名: 張xx, BMI: 23.3, 正常範圍\n"
     ]
    }
   ],
   "source": [
    "def getItems():\n",
    "    items:list[dict] = [\n",
    "        {'name':'徐xx','height':178,'weight':78},\n",
    "        {'name':'王xx','height':168,'weight':75},\n",
    "        {'name':'張xx','height':183,'weight':78},\n",
    "    ]\n",
    "\n",
    "    return items\n",
    "\n",
    "############################\n",
    "\n",
    "def judgmentForBMI(bmi):\n",
    "    if bmi < 18.5:\n",
    "        return '體重過輕'\n",
    "    elif bmi < 24:\n",
    "        return '正常範圍'\n",
    "    elif bmi < 27:\n",
    "        return '過重'\n",
    "    elif bmi < 30:\n",
    "        return '輕度肥胖'\n",
    "    elif bmi < 35:\n",
    "        return '中度肥胖'\n",
    "    else:\n",
    "        return '重度肥胖'\n",
    "\n",
    "############################\n",
    "\n",
    "def calcForBMI(item:dict):\n",
    "    height:float = float(item['height'])\n",
    "    weight:float = float(item['weight'])\n",
    "    bmi:float = weight / (height / 100) ** 2\n",
    "    item['bmi'] = bmi\n",
    "\n",
    "############################\n",
    "\n",
    "def main():\n",
    "    items:list[dict] = getItems()\n",
    "\n",
    "    for item in items:\n",
    "        calcForBMI(item)\n",
    "        print(f'姓名: {item[\"name\"]}, BMI: {item[\"bmi\"]:.1f}, {judgmentForBMI(item[\"bmi\"])}')\n",
    "\n",
    "main()\n"
   ]
  }
 ],
 "metadata": {
  "kernelspec": {
   "display_name": "Python 3",
   "language": "python",
   "name": "python3"
  },
  "language_info": {
   "codemirror_mode": {
    "name": "ipython",
    "version": 3
   },
   "file_extension": ".py",
   "mimetype": "text/x-python",
   "name": "python",
   "nbconvert_exporter": "python",
   "pygments_lexer": "ipython3",
   "version": "3.10.13"
  }
 },
 "nbformat": 4,
 "nbformat_minor": 2
}

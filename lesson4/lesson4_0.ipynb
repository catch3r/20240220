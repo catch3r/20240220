{
 "cells": [
  {
   "cell_type": "code",
   "execution_count": 1,
   "metadata": {},
   "outputs": [
    {
     "name": "stdout",
     "output_type": "stream",
     "text": [
      "姓名: dfghdfh\n",
      "身高: 3456公分\n",
      "體重: 2345.77公斤\n",
      "BMI: 2.0\n"
     ]
    }
   ],
   "source": [
    "name = input('請輸入姓名')\n",
    "height = eval(input('請輸入身高(公分)'))\n",
    "weight = eval(input('請輸入體重(公斤)'))\n",
    "bmi = weight / (height / 100) ** 2\n",
    "\n",
    "print(f'姓名: {name}\\n身高: {height}公分\\n體重: {weight}公斤\\nBMI: {bmi:.1f}')"
   ]
  }
 ],
 "metadata": {
  "kernelspec": {
   "display_name": "Python 3",
   "language": "python",
   "name": "python3"
  },
  "language_info": {
   "codemirror_mode": {
    "name": "ipython",
    "version": 3
   },
   "file_extension": ".py",
   "mimetype": "text/x-python",
   "name": "python",
   "nbconvert_exporter": "python",
   "pygments_lexer": "ipython3",
   "version": "3.10.13"
  }
 },
 "nbformat": 4,
 "nbformat_minor": 2
}

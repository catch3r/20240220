{
 "cells": [
  {
   "cell_type": "code",
   "execution_count": 6,
   "metadata": {},
   "outputs": [
    {
     "name": "stdout",
     "output_type": "stream",
     "text": [
      "及格\n",
      "程式結束\n"
     ]
    }
   ],
   "source": [
    "score = int(input('請輸入學生分數'))\n",
    "\n",
    "#雙向選擇\n",
    "if score >= 60:\n",
    "    print('及格')\n",
    "else:\n",
    "    print('不及格')\n",
    "\n",
    "print('程式結束')"
   ]
  },
  {
   "cell_type": "code",
   "execution_count": 29,
   "metadata": {},
   "outputs": [
    {
     "name": "stdout",
     "output_type": "stream",
     "text": [
      "學生總分為: 92\n"
     ]
    }
   ],
   "source": [
    "#學生總分為300\n",
    "#有些學生可以加分5%\n",
    "#如果加分超過300, 則以300分為準\n",
    "#檢查學生輸入有無超過300分, 超過顯示提示\n",
    "\n",
    "scoresStr = input(\"請輸入學生分數(最高300分))\")\n",
    "\n",
    "try:\n",
    "    scores = int(scoresStr)\n",
    "except Exception as e:\n",
    "    print('輸入格式有誤')\n",
    "else:\n",
    "    if scores <= 300 and scores >= 0:\n",
    "        is_add = input(\"學生是否符合加分條件?(y/n)\")\n",
    "        is_add = str.lower(is_add)\n",
    "\n",
    "        if is_add == 'y':\n",
    "            scores *= 1.05\n",
    "            if scores > 300:\n",
    "                scores = 300\n",
    "\n",
    "        print(f'學生總分為: {round(scores)}')\n",
    "\n",
    "    else:\n",
    "        print('輸入不在範圍內')"
   ]
  },
  {
   "cell_type": "code",
   "execution_count": 26,
   "metadata": {},
   "outputs": [
    {
     "name": "stdout",
     "output_type": "stream",
     "text": [
      "5467457\n",
      "程式沒有錯誤\n"
     ]
    }
   ],
   "source": [
    "#解決 raise 錯誤的語法\n",
    "moneyStr = input('請輸入金額')\n",
    "\n",
    "try:\n",
    "    money = eval(moneyStr)\n",
    "    print(money)\n",
    "\n",
    "except Exception as e:\n",
    "    print('輸入格式錯誤')\n",
    "    print(e)\n",
    "else:\n",
    "    print('程式沒有錯誤')"
   ]
  }
 ],
 "metadata": {
  "kernelspec": {
   "display_name": "Python 3",
   "language": "python",
   "name": "python3"
  },
  "language_info": {
   "codemirror_mode": {
    "name": "ipython",
    "version": 3
   },
   "file_extension": ".py",
   "mimetype": "text/x-python",
   "name": "python",
   "nbconvert_exporter": "python",
   "pygments_lexer": "ipython3",
   "version": "3.10.13"
  }
 },
 "nbformat": 4,
 "nbformat_minor": 2
}

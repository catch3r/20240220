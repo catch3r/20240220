{
 "cells": [
  {
   "cell_type": "code",
   "execution_count": 6,
   "metadata": {},
   "outputs": [
    {
     "name": "stdout",
     "output_type": "stream",
     "text": [
      "及格\n",
      "程式結束\n"
     ]
    }
   ],
   "source": [
    "score = int(input('請輸入學生分數'))\n",
    "\n",
    "#雙向選擇\n",
    "if score >= 60:\n",
    "    print('及格')\n",
    "else:\n",
    "    print('不及格')\n",
    "\n",
    "print('程式結束')"
   ]
  },
  {
   "cell_type": "code",
   "execution_count": 29,
   "metadata": {},
   "outputs": [
    {
     "name": "stdout",
     "output_type": "stream",
     "text": [
      "學生總分為: 92\n"
     ]
    }
   ],
   "source": [
    "#學生總分為300\n",
    "#有些學生可以加分5%\n",
    "#如果加分超過300, 則以300分為準\n",
    "#檢查學生輸入有無超過300分, 超過顯示提示\n",
    "\n",
    "scoresStr = input(\"請輸入學生分數(最高300分))\")\n",
    "\n",
    "try:\n",
    "    scores = int(scoresStr)\n",
    "except Exception as e:\n",
    "    print('輸入格式有誤')\n",
    "    print(e)\n",
    "else:\n",
    "    if scores <= 300 and scores >= 0:\n",
    "        is_add = input(\"學生是否符合加分條件?(y/n)\")\n",
    "        is_add = str.lower(is_add)\n",
    "\n",
    "        if is_add == 'y':\n",
    "            scores *= 1.05\n",
    "            if scores > 300:\n",
    "                scores = 300\n",
    "\n",
    "        print(f'學生總分為: {round(scores)}')\n",
    "\n",
    "    else:\n",
    "        print('輸入不在範圍內')"
   ]
  },
  {
   "cell_type": "code",
   "execution_count": 26,
   "metadata": {},
   "outputs": [
    {
     "name": "stdout",
     "output_type": "stream",
     "text": [
      "5467457\n",
      "程式沒有錯誤\n"
     ]
    }
   ],
   "source": [
    "#解決 raise 錯誤的語法\n",
    "moneyStr = input('請輸入金額')\n",
    "\n",
    "try:\n",
    "    money = eval(moneyStr)\n",
    "    print(money)\n",
    "\n",
    "except Exception as e:\n",
    "    print('輸入格式錯誤')\n",
    "    print(e)\n",
    "else:\n",
    "    print('程式沒有錯誤')"
   ]
  },
  {
   "cell_type": "code",
   "execution_count": 35,
   "metadata": {},
   "outputs": [
    {
     "name": "stdout",
     "output_type": "stream",
     "text": [
      "在80和90之間\n"
     ]
    }
   ],
   "source": [
    "value = eval(input('請輸入一個數值'))\n",
    "\n",
    "if value < 60:\n",
    "    print('小於60')\n",
    "elif value >= 60 and value < 80:\n",
    "    print('在60和80之間')\n",
    "elif value >= 80 and value < 90:\n",
    "    print('在80和90之間')\n",
    "else:\n",
    "    print('大於等於80')"
   ]
  },
  {
   "cell_type": "code",
   "execution_count": 46,
   "metadata": {},
   "outputs": [
    {
     "name": "stdout",
     "output_type": "stream",
     "text": [
      "身高格式有誤\n"
     ]
    },
    {
     "ename": "StopExecution",
     "evalue": "name 'ghkghk' is not defined",
     "output_type": "error",
     "traceback": [
      "\u001b[0;31m---------------------------------------------------------------------------\u001b[0m",
      "\u001b[0;31mNameError\u001b[0m                                 Traceback (most recent call last)",
      "Cell \u001b[0;32mIn[46], line 6\u001b[0m\n\u001b[1;32m      5\u001b[0m \u001b[38;5;28;01mtry\u001b[39;00m:\n\u001b[0;32m----> 6\u001b[0m     height \u001b[38;5;241m=\u001b[39m \u001b[38;5;28;43meval\u001b[39;49m\u001b[43m(\u001b[49m\u001b[43mheightStr\u001b[49m\u001b[43m)\u001b[49m\n\u001b[1;32m      7\u001b[0m \u001b[38;5;28;01mexcept\u001b[39;00m \u001b[38;5;167;01mException\u001b[39;00m \u001b[38;5;28;01mas\u001b[39;00m e:\n",
      "File \u001b[0;32m<string>:1\u001b[0m\n",
      "\u001b[0;31mNameError\u001b[0m: name 'ghkghk' is not defined",
      "\nDuring handling of the above exception, another exception occurred:\n",
      "\u001b[0;31mStopExecution\u001b[0m                             Traceback (most recent call last)",
      "Cell \u001b[0;32mIn[46], line 10\u001b[0m\n\u001b[1;32m      8\u001b[0m     \u001b[38;5;28mprint\u001b[39m(\u001b[38;5;124m'\u001b[39m\u001b[38;5;124m身高格式有誤\u001b[39m\u001b[38;5;124m'\u001b[39m)\n\u001b[1;32m      9\u001b[0m     \u001b[38;5;66;03m#print(e)\u001b[39;00m\n\u001b[0;32m---> 10\u001b[0m     \u001b[38;5;28;01mraise\u001b[39;00m StopExecution(e)\n\u001b[1;32m     12\u001b[0m \u001b[38;5;28mprint\u001b[39m(\u001b[38;5;241m48567856\u001b[39m)\n",
      "\u001b[0;31mStopExecution\u001b[0m: name 'ghkghk' is not defined"
     ]
    }
   ],
   "source": [
    "heightStr = input('請輸入身高(公分)')\n",
    "\n",
    "class StopExecution(Exception):\n",
    "    def _render_traceback_(self):\n",
    "        return\n",
    "\n",
    "try:\n",
    "    height = eval(heightStr)\n",
    "except Exception as e:\n",
    "    print('身高格式有誤')\n",
    "    #print(e)\n",
    "    raise StopExecution\n",
    "\n",
    "print(48567856)"
   ]
  },
  {
   "cell_type": "code",
   "execution_count": 54,
   "metadata": {},
   "outputs": [
    {
     "name": "stdout",
     "output_type": "stream",
     "text": [
      "您的BMI是: 0.8\n",
      "您的體重: 體重過輕\n"
     ]
    }
   ],
   "source": [
    "class StopExecution(Exception):\n",
    "    def _render_traceback_(self):\n",
    "        return\n",
    "\n",
    "def main():\n",
    "    heightStr = input('請輸入身高(公分)')\n",
    "\n",
    "    try:\n",
    "        height = eval(heightStr)\n",
    "    except Exception as e:\n",
    "        print('身高格式有誤')\n",
    "        print(e)\n",
    "        raise StopExecution\n",
    "\n",
    "    weightStr = input('請輸入體重(公斤)')\n",
    "\n",
    "    try:\n",
    "        weight = eval(weightStr)\n",
    "    except Exception as e:\n",
    "        print('體重格式有誤')\n",
    "        print(e)\n",
    "        raise StopExecution\n",
    "\n",
    "    bmi = weight / (height / 100) ** 2\n",
    "\n",
    "    print(f'您的BMI是: {bmi:.1f}')\n",
    "\n",
    "    if bmi < 18.5:\n",
    "        msg = '體重過輕'\n",
    "    elif bmi < 24:\n",
    "        msg = '正常範圍'\n",
    "    elif bmi < 27:\n",
    "        msg = '過重'\n",
    "    elif bmi < 30:\n",
    "        msg = '輕度肥胖'\n",
    "    elif bmi < 35:\n",
    "        msg = '中度肥胖'\n",
    "    else:\n",
    "        msg = '重度肥胖'\n",
    "\n",
    "    print(f'您的體重: {msg}')\n",
    "\n",
    "main()"
   ]
  }
 ],
 "metadata": {
  "kernelspec": {
   "display_name": "Python 3",
   "language": "python",
   "name": "python3"
  },
  "language_info": {
   "codemirror_mode": {
    "name": "ipython",
    "version": 3
   },
   "file_extension": ".py",
   "mimetype": "text/x-python",
   "name": "python",
   "nbconvert_exporter": "python",
   "pygments_lexer": "ipython3",
   "version": "3.10.13"
  }
 },
 "nbformat": 4,
 "nbformat_minor": 2
}

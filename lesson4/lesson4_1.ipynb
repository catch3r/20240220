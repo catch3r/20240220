{
 "cells": [
  {
   "cell_type": "code",
   "execution_count": 2,
   "metadata": {},
   "outputs": [
    {
     "name": "stdout",
     "output_type": "stream",
     "text": [
      "斜邊: 50, 對邊: 25\n",
      "三角形的角度: 30.00\n"
     ]
    }
   ],
   "source": [
    "#求直角三角形的角度\n",
    "import math\n",
    "\n",
    "side = eval(input('請輸入斜邊'))\n",
    "another = eval(input('請輸入對邊'))\n",
    "radian = math.asin(another / side)\n",
    "degree = math.degrees(radian)\n",
    "\n",
    "print(f'斜邊: {side}, 對邊: {another}')\n",
    "print(f'三角形的角度: {degree:.2f}')"
   ]
  },
  {
   "cell_type": "code",
   "execution_count": 5,
   "metadata": {},
   "outputs": [
    {
     "name": "stdout",
     "output_type": "stream",
     "text": [
      "5.94418483337567\n",
      "1.8257418583505538\n"
     ]
    }
   ],
   "source": [
    "#大學數學\n",
    "import statistics\n",
    "\n",
    "list_1 = [0, 5, 9 ,14]\n",
    "list_2 = [5, 6, 8, 9]\n",
    "\n",
    "stdev_1 = statistics.stdev(list_1)\n",
    "print(stdev_1)\n",
    "\n",
    "stdev_2 = statistics.stdev(list_2)\n",
    "print(stdev_2)\n"
   ]
  }
 ],
 "metadata": {
  "kernelspec": {
   "display_name": "Python 3",
   "language": "python",
   "name": "python3"
  },
  "language_info": {
   "codemirror_mode": {
    "name": "ipython",
    "version": 3
   },
   "file_extension": ".py",
   "mimetype": "text/x-python",
   "name": "python",
   "nbconvert_exporter": "python",
   "pygments_lexer": "ipython3",
   "version": "3.10.13"
  }
 },
 "nbformat": 4,
 "nbformat_minor": 2
}

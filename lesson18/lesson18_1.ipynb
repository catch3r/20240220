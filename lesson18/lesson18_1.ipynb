{
 "cells": [
  {
   "cell_type": "code",
   "execution_count": 5,
   "metadata": {},
   "outputs": [
    {
     "name": "stdout",
     "output_type": "stream",
     "text": [
      "<class 'pandas.core.frame.DataFrame'>\n",
      "Index: 370 entries, 新北市板橋區 to 南沙群島\n",
      "Data columns (total 3 columns):\n",
      " #   Column  Non-Null Count  Dtype \n",
      "---  ------  --------------  ----- \n",
      " 0   年底人口數   370 non-null    object\n",
      " 1   土地面積    370 non-null    object\n",
      " 2   人口密度    370 non-null    object\n",
      "dtypes: object(3)\n",
      "memory usage: 11.6+ KB\n"
     ]
    }
   ],
   "source": [
    "import pandas as pd\n",
    "\n",
    "df1 = pd.read_csv('各鄉鎮市區人口密度.csv')\n",
    "df1.columns = df1.iloc[0]\n",
    "df2 = df1.drop(index=0)\n",
    "df3 = df2.dropna()\n",
    "\n",
    "df4 = df3.set_index(['區域別'])\n",
    "df5 = df4.drop(columns=['統計年'])\n",
    "\n",
    "# df5['年底人口數'].astype(int)\n",
    "\n",
    "df5.info()"
   ]
  },
  {
   "cell_type": "code",
   "execution_count": 13,
   "metadata": {},
   "outputs": [
    {
     "name": "stdout",
     "output_type": "stream",
     "text": [
      "<class 'pandas.core.frame.DataFrame'>\n",
      "Index: 370 entries, 新北市板橋區 to 南沙群島\n",
      "Data columns (total 3 columns):\n",
      " #   Column  Non-Null Count  Dtype  \n",
      "---  ------  --------------  -----  \n",
      " 0   年底人口數   370 non-null    int64  \n",
      " 1   土地面積    370 non-null    float64\n",
      " 2   人口密度    370 non-null    int64  \n",
      "dtypes: float64(1), int64(2)\n",
      "memory usage: 19.7+ KB\n"
     ]
    }
   ],
   "source": [
    "def to_int(value:str) -> int:\n",
    "    try:\n",
    "        return int(value)\n",
    "    except:\n",
    "        return 0\n",
    "\n",
    "df5['年底人口數'] = df5['年底人口數'].map(to_int)\n",
    "df5['人口密度'] = df5['人口密度'].map(to_int)\n",
    "df5['土地面積'] = df5['土地面積'].astype(float)\n",
    "df5.info()"
   ]
  }
 ],
 "metadata": {
  "kernelspec": {
   "display_name": "Python 3",
   "language": "python",
   "name": "python3"
  },
  "language_info": {
   "codemirror_mode": {
    "name": "ipython",
    "version": 3
   },
   "file_extension": ".py",
   "mimetype": "text/x-python",
   "name": "python",
   "nbconvert_exporter": "python",
   "pygments_lexer": "ipython3",
   "version": "3.10.13"
  }
 },
 "nbformat": 4,
 "nbformat_minor": 2
}

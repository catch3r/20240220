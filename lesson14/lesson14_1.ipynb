{
 "cells": [
  {
   "cell_type": "code",
   "execution_count": null,
   "metadata": {},
   "outputs": [],
   "source": [
    "import matplotlib.pyplot as plt\n",
    "\n",
    "student1 = {'chinese':78, 'english': 80, 'history':75, 'discover': 85}\n",
    "student2 = {'chinese':69, 'english': 92, 'history':69, 'discover': 80}\n",
    "\n",
    "subjects=list(student1.keys())\n",
    "scores1=list(student1.values())\n",
    "scores2=list(student2.values())\n",
    "\n",
    "fig=plt.figure()\n",
    "axes=fig.add_subplot(1,1,1)\n",
    "axes.plot(subjects,scores1,'r^-.',label='stu1')\n",
    "axes.plot(subjects,scores2,'go--',label='stu2')\n",
    "axes.legend()\n",
    "plt.show()"
   ]
  }
 ],
 "metadata": {
  "kernelspec": {
   "display_name": "env1",
   "language": "python",
   "name": "python3"
  },
  "language_info": {
   "name": "python",
   "version": "3.10.14"
  }
 },
 "nbformat": 4,
 "nbformat_minor": 2
}

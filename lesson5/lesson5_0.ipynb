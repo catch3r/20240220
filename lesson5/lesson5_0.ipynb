{
 "cells": [
  {
   "cell_type": "code",
   "execution_count": 4,
   "metadata": {},
   "outputs": [
    {
     "name": "stdout",
     "output_type": "stream",
     "text": [
      "您的BMI是: 28.4\n",
      "您的體重: 輕度肥胖\n"
     ]
    }
   ],
   "source": [
    "class StopExecution(Exception):\n",
    "    def _render_traceback_(self):\n",
    "        return\n",
    "\n",
    "def JudgmentForBMI(bmi):\n",
    "    if bmi >= 35:\n",
    "        return '重度肥胖'\n",
    "    elif bmi >= 30:\n",
    "        return '中度肥胖'\n",
    "    elif bmi >= 27:\n",
    "        return '輕度肥胖'\n",
    "    elif bmi >= 24:\n",
    "        return '過重'\n",
    "    elif bmi >= 18.5:\n",
    "        return '正常範圍'\n",
    "    else:\n",
    "        return '體重過輕'\n",
    "    \n",
    "def main():\n",
    "    heightStr = input('請輸入身高(公分)')\n",
    "\n",
    "    try:\n",
    "        height = eval(heightStr)\n",
    "    except Exception as e:\n",
    "        print('身高格式有誤')\n",
    "        print(e)\n",
    "        raise StopExecution\n",
    "\n",
    "    weightStr = input('請輸入體重(公斤)')\n",
    "\n",
    "    try:\n",
    "        weight = eval(weightStr)\n",
    "    except Exception as e:\n",
    "        print('體重格式有誤')\n",
    "        print(e)\n",
    "        raise StopExecution\n",
    "\n",
    "    bmi = weight / (height / 100) ** 2\n",
    "\n",
    "    print(f'您的BMI是: {bmi:.1f}')\n",
    "\n",
    "    print(f'您的體重: {JudgmentForBMI(bmi)}')\n",
    "\n",
    "main()"
   ]
  }
 ],
 "metadata": {
  "kernelspec": {
   "display_name": "Python 3",
   "language": "python",
   "name": "python3"
  },
  "language_info": {
   "codemirror_mode": {
    "name": "ipython",
    "version": 3
   },
   "file_extension": ".py",
   "mimetype": "text/x-python",
   "name": "python",
   "nbconvert_exporter": "python",
   "pygments_lexer": "ipython3",
   "version": "3.10.13"
  }
 },
 "nbformat": 4,
 "nbformat_minor": 2
}

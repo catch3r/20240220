{
 "cells": [
  {
   "cell_type": "code",
   "execution_count": 23,
   "metadata": {},
   "outputs": [
    {
     "data": {
      "text/plain": [
       "['/workspaces/20240220/lesson19/縣市/縣表3-1-701(新竹縣).xls',\n",
       " '/workspaces/20240220/lesson19/縣市/縣表3-1-702(苗栗縣).xls',\n",
       " '/workspaces/20240220/lesson19/縣市/縣表3-1-706(嘉義縣).xls',\n",
       " '/workspaces/20240220/lesson19/縣市/縣表3-1-710(臺東縣).xls',\n",
       " '/workspaces/20240220/lesson19/縣市/縣表3-1-802(連江縣).xls',\n",
       " '/workspaces/20240220/lesson19/縣市/縣表3-1-709(花蓮縣).xls',\n",
       " '/workspaces/20240220/lesson19/縣市/縣表3-1-713(新竹市).xls',\n",
       " '/workspaces/20240220/lesson19/縣市/縣表3-1-714(嘉義市).xls',\n",
       " '/workspaces/20240220/lesson19/縣市/縣表3-1-711(澎湖縣).xls',\n",
       " '/workspaces/20240220/lesson19/縣市/縣表3-1-707(屏東縣).xls',\n",
       " '/workspaces/20240220/lesson19/縣市/縣表3-1-801(金門縣).xls',\n",
       " '/workspaces/20240220/lesson19/縣市/縣表3-1-705(雲林縣).xls',\n",
       " '/workspaces/20240220/lesson19/縣市/縣表3-1-703(彰化縣).xls',\n",
       " '/workspaces/20240220/lesson19/縣市/縣表3-1-708(宜蘭縣).xls',\n",
       " '/workspaces/20240220/lesson19/縣市/縣表3-1-712(基隆市).xls',\n",
       " '/workspaces/20240220/lesson19/縣市/縣表3-1-704(南投縣).xls']"
      ]
     },
     "execution_count": 23,
     "metadata": {},
     "output_type": "execute_result"
    }
   ],
   "source": [
    "import os\n",
    "from functools import reduce\n",
    "\n",
    "dirPath = '縣市'\n",
    "\n",
    "# acc: 累加值\n",
    "def checkFormat(acc:list[str], name:str):\n",
    "    file_path = os.path.abspath(f'{dirPath}/{name}')\n",
    "    # 如果是檔案\n",
    "    if os.path.isfile(file_path):\n",
    "        # 拆解路徑與副檔名\n",
    "        root, ext = os.path.splitext(name)\n",
    "        # 如果是 xls 或是 xlsx 檔案類型\n",
    "        if ext in ['.xls', '.xlsx']:\n",
    "            acc.append(file_path)\n",
    "\n",
    "    return acc\n",
    "\n",
    "file_names:list = os.listdir(dirPath)\n",
    "\n",
    "# abs_paths = [os.path.abspath(f'縣市/{name}') for name in file_names]\n",
    "\n",
    "# abs_paths = map(lambda name: os.path.abspath(f'縣市/{name}'), file_names)\n",
    "\n",
    "abs_paths:list[str] = reduce(checkFormat, file_names, [])\n",
    "\n",
    "display(abs_paths)"
   ]
  },
  {
   "cell_type": "code",
   "execution_count": 11,
   "metadata": {},
   "outputs": [
    {
     "name": "stdout",
     "output_type": "stream",
     "text": [
      "總和： 2009\n"
     ]
    }
   ],
   "source": [
    "from functools import reduce\n",
    "\n",
    "def add(x, y):            # 两数相加\n",
    "    if(y % 2 == 1):\n",
    "        x = x + y\n",
    "    \n",
    "    return x\n",
    "\n",
    "numbers = [1, 2, 3, 4, 5]\n",
    "total_sum = reduce(add, numbers, 2000)\n",
    "print(\"總和：\", total_sum)  # 輸出：15"
   ]
  },
  {
   "cell_type": "code",
   "execution_count": 8,
   "metadata": {},
   "outputs": [
    {
     "data": {
      "text/plain": [
       "['/workspaces/20240220/lesson19/縣市/縣表3-1-701(新竹縣).xls',\n",
       " '/workspaces/20240220/lesson19/縣市/縣表3-1-702(苗栗縣).xls',\n",
       " '/workspaces/20240220/lesson19/縣市/縣表3-1-706(嘉義縣).xls',\n",
       " '/workspaces/20240220/lesson19/縣市/縣表3-1-710(臺東縣).xls',\n",
       " '/workspaces/20240220/lesson19/縣市/縣表3-1-802(連江縣).xls',\n",
       " '/workspaces/20240220/lesson19/縣市/縣表3-1-709(花蓮縣).xls',\n",
       " '/workspaces/20240220/lesson19/縣市/縣表3-1-713(新竹市).xls',\n",
       " '/workspaces/20240220/lesson19/縣市/縣表3-1-714(嘉義市).xls',\n",
       " '/workspaces/20240220/lesson19/縣市/縣表3-1-711(澎湖縣).xls',\n",
       " '/workspaces/20240220/lesson19/縣市/縣表3-1-707(屏東縣).xls',\n",
       " '/workspaces/20240220/lesson19/縣市/縣表3-1-801(金門縣).xls',\n",
       " '/workspaces/20240220/lesson19/縣市/縣表3-1-705(雲林縣).xls',\n",
       " '/workspaces/20240220/lesson19/縣市/縣表3-1-703(彰化縣).xls',\n",
       " '/workspaces/20240220/lesson19/縣市/縣表3-1-708(宜蘭縣).xls',\n",
       " '/workspaces/20240220/lesson19/縣市/縣表3-1-712(基隆市).xls',\n",
       " '/workspaces/20240220/lesson19/縣市/縣表3-1-704(南投縣).xls']"
      ]
     },
     "metadata": {},
     "output_type": "display_data"
    }
   ],
   "source": [
    "import os\n",
    "\n",
    "file_names:list[str] = os.listdir('縣市')\n",
    "\n",
    "abs_paths:map = map(lambda name: os.path.abspath(f'縣市/{name}'), file_names)\n",
    "\n",
    "display(list(abs_paths))"
   ]
  }
 ],
 "metadata": {
  "kernelspec": {
   "display_name": "Python 3",
   "language": "python",
   "name": "python3"
  },
  "language_info": {
   "codemirror_mode": {
    "name": "ipython",
    "version": 3
   },
   "file_extension": ".py",
   "mimetype": "text/x-python",
   "name": "python",
   "nbconvert_exporter": "python",
   "pygments_lexer": "ipython3",
   "version": "3.10.13"
  }
 },
 "nbformat": 4,
 "nbformat_minor": 2
}

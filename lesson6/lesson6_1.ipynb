{
 "cells": [
  {
   "cell_type": "code",
   "execution_count": null,
   "metadata": {},
   "outputs": [],
   "source": [
    "#小明想要存錢買一輛機車,機車每輛30000元，他將每月存的錢輸入，當存款足夠買機車時，就顯示提示訊息告知。\n",
    "deposit = 0\n",
    "month = 0\n",
    "while True:\n",
    "    month += 1\n",
    "    input_money = int(input(f'請輸入第{month}月份的存款'))\n",
    "    deposit += input_money\n",
    "\n",
    "    if deposit >= 30000:\n",
    "        break\n",
    "\n",
    "print(f'恭喜! 已經存夠了，存了{month}個月的總存款為:{deposit}元。')"
   ]
  },
  {
   "cell_type": "code",
   "execution_count": 1,
   "metadata": {},
   "outputs": [
    {
     "name": "stdout",
     "output_type": "stream",
     "text": [
      "加總的次數是3, 所有輸入的正偶數的加總是35020148\n"
     ]
    }
   ],
   "source": [
    "num = 0\n",
    "num1 = 0\n",
    "sum = 0\n",
    "\n",
    "while True:\n",
    "    num1 += 1\n",
    "\n",
    "    inputVal = int(input(f'請輸入第{num1}個數值'))\n",
    "\n",
    "    if inputVal < 0:\n",
    "        break\n",
    "    elif inputVal % 2 == 1:\n",
    "        continue\n",
    "\n",
    "    num += 1\n",
    "    sum += inputVal\n",
    "\n",
    "print(f'加總的次數是{num}次, 所有輸入的正偶數的加總是{sum}')"
   ]
  },
  {
   "cell_type": "code",
   "execution_count": 1,
   "metadata": {},
   "outputs": [
    {
     "name": "stdout",
     "output_type": "stream",
     "text": [
      "dfgh: 格式錯誤\n",
      "dfjf: 格式錯誤\n",
      "輸入的值是: 457\n"
     ]
    }
   ],
   "source": [
    "while True:\n",
    "    inputStr = input('請輸入整數')\n",
    "\n",
    "    try:\n",
    "        inputVal = int(inputStr)\n",
    "    except:\n",
    "        print(f'{inputStr}: 格式錯誤')\n",
    "        continue\n",
    "    else:\n",
    "        break\n",
    "\n",
    "print(f'輸入的值是: {inputVal}')  "
   ]
  }
 ],
 "metadata": {
  "kernelspec": {
   "display_name": "Python 3",
   "language": "python",
   "name": "python3"
  },
  "language_info": {
   "codemirror_mode": {
    "name": "ipython",
    "version": 3
   },
   "file_extension": ".py",
   "mimetype": "text/x-python",
   "name": "python",
   "nbconvert_exporter": "python",
   "pygments_lexer": "ipython3",
   "version": "3.10.13"
  }
 },
 "nbformat": 4,
 "nbformat_minor": 2
}

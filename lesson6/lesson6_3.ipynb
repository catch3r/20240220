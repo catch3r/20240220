{
 "cells": [
  {
   "cell_type": "code",
   "execution_count": 7,
   "metadata": {},
   "outputs": [
    {
     "name": "stdout",
     "output_type": "stream",
     "text": [
      "===猜數字遊戲===\n",
      "\n",
      "65\n",
      "猜數字範圍: 1~100\n",
      "再大一點\n",
      "您猜了1次\n",
      "猜數字範圍: 56~100\n",
      "再小一點\n",
      "您猜了2次\n",
      "猜數字範圍: 56~86\n",
      "Number must be at minimum 56.\n",
      "猜數字範圍: 56~86\n",
      "再小一點\n",
      "您猜了3次\n",
      "猜數字範圍: 56~76\n",
      "再小一點\n",
      "您猜了4次\n",
      "猜數字範圍: 56~65\n",
      "再大一點\n",
      "您猜了5次\n",
      "猜數字範圍: 61~65\n",
      "再大一點\n",
      "您猜了6次\n",
      "猜數字範圍: 64~65\n",
      "再大一點\n",
      "您猜了7次\n",
      "猜數字範圍: 65~65\n",
      "賓果! 猜對了, 答案是65\n",
      "遊戲結束!\n"
     ]
    }
   ],
   "source": [
    "import random\n",
    "import pyinputplus as pyip\n",
    "\n",
    "min = 1\n",
    "max = 100\n",
    "count = 0\n",
    "target = random.randint(min, max)\n",
    "print(\"===猜數字遊戲===\\n\")\n",
    "print(target)\n",
    "\n",
    "while True:\n",
    "    keyin = pyip.inputInt(f'猜數字範圍: {min}~{max}\\n', min=min, max=max)\n",
    "    count += 1\n",
    "    if keyin == target:\n",
    "        print(f'賓果! 猜對了, 答案是{target}')\n",
    "        break\n",
    "    elif keyin > target:\n",
    "        print('再小一點')\n",
    "        max = keyin - 1\n",
    "    else:\n",
    "        print('再大一點')\n",
    "        min = keyin + 1\n",
    "\n",
    "    print(f'您猜了{count}次')\n",
    "\n",
    "print(f'遊戲結束!')"
   ]
  }
 ],
 "metadata": {
  "kernelspec": {
   "display_name": "Python 3",
   "language": "python",
   "name": "python3"
  },
  "language_info": {
   "codemirror_mode": {
    "name": "ipython",
    "version": 3
   },
   "file_extension": ".py",
   "mimetype": "text/x-python",
   "name": "python",
   "nbconvert_exporter": "python",
   "pygments_lexer": "ipython3",
   "version": "3.10.13"
  }
 },
 "nbformat": 4,
 "nbformat_minor": 2
}

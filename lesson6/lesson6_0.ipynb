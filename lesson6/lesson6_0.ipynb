{
 "cells": [
  {
   "cell_type": "code",
   "execution_count": 8,
   "metadata": {},
   "outputs": [
    {
     "name": "stdout",
     "output_type": "stream",
     "text": [
      "10 的因數有:\n",
      "1, 2, 5, 10\n"
     ]
    }
   ],
   "source": [
    "#溫柔版\n",
    "\n",
    "try:\n",
    "    num = int(input('請輸入一個正整數'))\n",
    "except:\n",
    "    print('格式錯誤')\n",
    "else:\n",
    "    num2 = num // 2\n",
    "\n",
    "    print(f'{num} 的因數有:')\n",
    "\n",
    "    list = []\n",
    "\n",
    "    for i in range(1, num2 + 1):\n",
    "        if num % i == 0:\n",
    "            list.append(str(i))\n",
    "\n",
    "    list.append(str(num))\n",
    "\n",
    "    print(', '.join(list))"
   ]
  }
 ],
 "metadata": {
  "kernelspec": {
   "display_name": "Python 3",
   "language": "python",
   "name": "python3"
  },
  "language_info": {
   "codemirror_mode": {
    "name": "ipython",
    "version": 3
   },
   "file_extension": ".py",
   "mimetype": "text/x-python",
   "name": "python",
   "nbconvert_exporter": "python",
   "pygments_lexer": "ipython3",
   "version": "3.10.13"
  }
 },
 "nbformat": 4,
 "nbformat_minor": 2
}

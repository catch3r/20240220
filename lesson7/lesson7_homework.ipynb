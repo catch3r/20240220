{
 "cells": [
  {
   "cell_type": "code",
   "execution_count": 17,
   "metadata": {},
   "outputs": [
    {
     "name": "stdout",
     "output_type": "stream",
     "text": [
      "您的BMI是: 25.2\n",
      "您的體重: 過重\n"
     ]
    }
   ],
   "source": [
    "def inputFloat(prompt:str, min:float = None, max:float = None) -> float:\n",
    "    if(min != None and max != None):\n",
    "        msg = f'({min} ~ {max})'\n",
    "    elif min != None:\n",
    "        msg = f', 不低於 {min}'\n",
    "    elif max != None:\n",
    "        msg = f', 不超過 {max}'\n",
    "    else:\n",
    "        msg = ''\n",
    "\n",
    "    resultStr = input(f'{prompt} {msg}')\n",
    "\n",
    "    try:\n",
    "        result = float(resultStr)\n",
    "    except:\n",
    "        print(f'格式錯誤: {resultStr}')\n",
    "        return inputFloat(prompt, min, max)\n",
    "    \n",
    "    if min != None and result < min:\n",
    "        print(f'格式錯誤, 輸入值比 {min} 低')\n",
    "        return inputFloat(prompt, min, max)\n",
    "        \n",
    "    if max != None and result > max:\n",
    "        print(f'格式錯誤, 輸入值比 {max} 高')\n",
    "        return inputFloat(prompt, min, max)  \n",
    "\n",
    "    return float(result)\n",
    "    \n",
    "def main():\n",
    "\n",
    "    height:float = inputFloat('請輸入身高(公分)', min=0, max=300)\n",
    "\n",
    "    weight:float = inputFloat('請輸入體重(公斤)', min=0, max=300)\n",
    "\n",
    "    bmi = weight / (height / 100) ** 2\n",
    "\n",
    "    print(f'您的BMI是: {bmi:.1f}')\n",
    "\n",
    "    if bmi < 18.5:\n",
    "        msg = '體重過輕'\n",
    "    elif bmi < 24:\n",
    "        msg = '正常範圍'\n",
    "    elif bmi < 27:\n",
    "        msg = '過重'\n",
    "    elif bmi < 30:\n",
    "        msg = '輕度肥胖'\n",
    "    elif bmi < 35:\n",
    "        msg = '中度肥胖'\n",
    "    else:\n",
    "        msg = '重度肥胖'\n",
    "\n",
    "    print(f'您的體重: {msg}')\n",
    "\n",
    "if __name__==\"__main__\":\n",
    "    main()"
   ]
  }
 ],
 "metadata": {
  "kernelspec": {
   "display_name": "Python 3",
   "language": "python",
   "name": "python3"
  },
  "language_info": {
   "codemirror_mode": {
    "name": "ipython",
    "version": 3
   },
   "file_extension": ".py",
   "mimetype": "text/x-python",
   "name": "python",
   "nbconvert_exporter": "python",
   "pygments_lexer": "ipython3",
   "version": "3.10.13"
  }
 },
 "nbformat": 4,
 "nbformat_minor": 2
}

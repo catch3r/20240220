{
 "cells": [
  {
   "cell_type": "code",
   "execution_count": 3,
   "metadata": {},
   "outputs": [
    {
     "name": "stdout",
     "output_type": "stream",
     "text": [
      "半徑: 66.00, 圓面積: 13684.777\n"
     ]
    }
   ],
   "source": [
    "#計算圓面積\n",
    "radius = eval(input('請輸入半徑'))\n",
    "PI = 3.1415926\n",
    "area = PI * radius  ** 2\n",
    "print(f'半徑: {radius:.2f}, 圓面積: {area:.3f}')"
   ]
  },
  {
   "cell_type": "code",
   "execution_count": 4,
   "metadata": {},
   "outputs": [
    {
     "name": "stdout",
     "output_type": "stream",
     "text": [
      "半徑: 745.00, 圓面積: 1743662.463\n"
     ]
    }
   ],
   "source": [
    "#計算圓面積\n",
    "import math\n",
    "radius = eval(input('請輸入半徑'))\n",
    "#PI = 3.1415926\n",
    "area = math.pi * radius  ** 2\n",
    "print(f'半徑: {radius:.2f}, 圓面積: {area:.3f}')"
   ]
  }
 ],
 "metadata": {
  "kernelspec": {
   "display_name": "Python 3",
   "language": "python",
   "name": "python3"
  },
  "language_info": {
   "codemirror_mode": {
    "name": "ipython",
    "version": 3
   },
   "file_extension": ".py",
   "mimetype": "text/x-python",
   "name": "python",
   "nbconvert_exporter": "python",
   "pygments_lexer": "ipython3",
   "version": "3.10.13"
  }
 },
 "nbformat": 4,
 "nbformat_minor": 2
}

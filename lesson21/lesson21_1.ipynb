{
 "cells": [
  {
   "cell_type": "code",
   "execution_count": 7,
   "metadata": {},
   "outputs": [
    {
     "name": "stdout",
     "output_type": "stream",
     "text": [
      "**學習演算法的步驟：**\n",
      "\n",
      "**1. 基礎知識：**\n",
      "\n",
      "* 資料結構：陣列、連結串列、堆疊、佇列等\n",
      "* 複雜度分析：時間複雜度、空間複雜度\n",
      "* 數學：線性代數、微積分、離散數學\n",
      "\n",
      "**2. 入門教材：**\n",
      "\n",
      "* 《演算法導論》（第 4 版）克萊爾·科門（Cormen 等）著\n",
      "* 《演算法設計手冊》史蒂文·史考特（Skiena）著\n",
      "* 《深入淺出演算法》李慕橋著\n",
      "\n",
      "**3. 線上課程：**\n",
      "\n",
      "* Coursera：演算法專門課程\n",
      "* edX：演算法、資料結構和分隔演算\n",
      "* MIT OpenCourseWare：演算法\n",
      "\n",
      "**4. 練習實作：**\n",
      "\n",
      "* LeetCode：線上編程題庫\n",
      "* HackerRank：電腦科學和程式設計挑戰\n",
      "* Codeforces：競爭式編程平台\n",
      "\n",
      "**5. 進階學習：**\n",
      "\n",
      "* 《演算法形式化方法》（第 3 版）歐潔格·阿霍（Aho 等）著\n",
      "* 《演算法遊戲》（第 5 版）麥可·古爾德（Gould）著\n",
      "* 研究論文和會議論文\n",
      "\n",
      "**6. 其他資源：**\n",
      "\n",
      "* 演算法視覺化網站：visualgo.net\n",
      "* 演算法討論區：Stack Exchange\n",
      "* 演算法部落格：Toptal 演算法部落格\n",
      "\n",
      "**學習建議：**\n",
      "\n",
      "* 從基礎知識開始，循序漸進。\n",
      "* 透過解決練習問題進行實作。\n",
      "* 定期複習，深入理解概念。\n",
      "* 探索演算法的應用，如人工智慧、資料科學和網路安全。\n",
      "* 參與演算法競賽或專案，提升實務經驗。\n"
     ]
    }
   ],
   "source": [
    "# from dotenv import load_dotenv\n",
    "import google.generativeai as genai\n",
    "import os\n",
    "\n",
    "# load_dotenv()\n",
    "\n",
    "genai.configure(api_key=os.environ['Gemini_API_KEY'])\n",
    "model = genai.GenerativeModel('gemini-pro')\n",
    "\n",
    "response = model.generate_content(\"我想要學習 演算法?\")\n",
    "print(response.text)\n"
   ]
  }
 ],
 "metadata": {
  "kernelspec": {
   "display_name": "Python 3",
   "language": "python",
   "name": "python3"
  },
  "language_info": {
   "codemirror_mode": {
    "name": "ipython",
    "version": 3
   },
   "file_extension": ".py",
   "mimetype": "text/x-python",
   "name": "python",
   "nbconvert_exporter": "python",
   "pygments_lexer": "ipython3",
   "version": "3.10.13"
  }
 },
 "nbformat": 4,
 "nbformat_minor": 2
}

{
 "cells": [
  {
   "cell_type": "code",
   "execution_count": 1,
   "metadata": {},
   "outputs": [
    {
     "data": {
      "text/plain": [
       "{'name': '我我我', 'chinese': 98, 'english': 66, 'math': 77}"
      ]
     },
     "execution_count": 1,
     "metadata": {},
     "output_type": "execute_result"
    }
   ],
   "source": [
    "stu1:dict = {'name': '我我我', 'chinese': 98, 'english': 66, 'math': 77 }\n",
    "stu1"
   ]
  },
  {
   "cell_type": "code",
   "execution_count": 2,
   "metadata": {},
   "outputs": [
    {
     "data": {
      "text/plain": [
       "{'name': '小火龍', 'chinese': 98, 'englist': 54, 'math': 35}"
      ]
     },
     "execution_count": 2,
     "metadata": {},
     "output_type": "execute_result"
    }
   ],
   "source": [
    "dict([('name', '小火龍'), ('chinese', 98), ('englist', 54), ('math', 35)])"
   ]
  },
  {
   "cell_type": "code",
   "execution_count": 3,
   "metadata": {},
   "outputs": [
    {
     "data": {
      "text/plain": [
       "'我我我'"
      ]
     },
     "execution_count": 3,
     "metadata": {},
     "output_type": "execute_result"
    }
   ],
   "source": [
    "stu1['name']"
   ]
  },
  {
   "cell_type": "code",
   "execution_count": 10,
   "metadata": {},
   "outputs": [
    {
     "name": "stdout",
     "output_type": "stream",
     "text": [
      "我我我\n",
      "98\n",
      "66\n",
      "77\n",
      "241\n",
      "80.33\n"
     ]
    }
   ],
   "source": [
    "from pydantic import BaseModel\n",
    "\n",
    "class Student(BaseModel):\n",
    "    #Field\n",
    "    name:str\n",
    "    chinese:int\n",
    "    english:int\n",
    "    math:int\n",
    "\n",
    "    @property\n",
    "    def sum(self) -> int:\n",
    "        return self.chinese + self.english + self.math\n",
    "    \n",
    "    def average(self) -> float:\n",
    "        return round(self.sum / 3, ndigits=2)\n",
    "\n",
    "student1 = Student.model_validate({'name': '我我我', 'chinese': 98, 'english': 66, 'math': 77 })\n",
    "print(student1.name)\n",
    "print(student1.chinese)\n",
    "print(student1.english)\n",
    "print(student1.math)\n",
    "print(student1.sum)\n",
    "print(student1.average())"
   ]
  },
  {
   "cell_type": "code",
   "execution_count": 16,
   "metadata": {},
   "outputs": [
    {
     "name": "stdout",
     "output_type": "stream",
     "text": [
      "小火龍\n",
      "98\n",
      "66\n",
      "77\n",
      "241\n",
      "80.33\n",
      "=============\n",
      "傑尼龜\n",
      "97\n",
      "66\n",
      "77\n",
      "240\n",
      "80.0\n",
      "=============\n",
      "妙蛙種子\n",
      "98\n",
      "66\n",
      "77\n",
      "241\n",
      "80.33\n",
      "=============\n"
     ]
    }
   ],
   "source": [
    "from pydantic import BaseModel, RootModel\n",
    "\n",
    "class Student(BaseModel):\n",
    "    #Field\n",
    "    name:str\n",
    "    chinese:int\n",
    "    english:int\n",
    "    math:int\n",
    "\n",
    "    @property\n",
    "    def sum(self) -> int:\n",
    "        return self.chinese + self.english + self.math\n",
    "    \n",
    "    def average(self) -> float:\n",
    "        return round(self.sum / 3, ndigits=2)\n",
    "\n",
    "class AllStudent(RootModel):\n",
    "    root:list[Student]\n",
    "\n",
    "    def __iter__(self):\n",
    "        return iter(self.root)\n",
    "    \n",
    "    def __getitem__(self, item):\n",
    "        return self.root[item]\n",
    "\n",
    "source_data:list[dict] = [\n",
    "    {'name': '小火龍', 'chinese': '98', 'english': '66', 'math': '77' },\n",
    "    {'name': '傑尼龜', 'chinese': 97, 'english': 66.0, 'math': '77.0' },\n",
    "    {'name': '妙蛙種子', 'chinese': '98', 'english': '66', 'math': '77' }\n",
    "]\n",
    "\n",
    "students:AllStudent = AllStudent.model_validate(source_data)\n",
    "\n",
    "for student in students:\n",
    "    print(student.name)\n",
    "    print(student.chinese)\n",
    "    print(student.english)\n",
    "    print(student.math)\n",
    "    print(student.sum)\n",
    "    print(student.average())\n",
    "    print('=============')"
   ]
  }
 ],
 "metadata": {
  "kernelspec": {
   "display_name": "Python 3",
   "language": "python",
   "name": "python3"
  },
  "language_info": {
   "codemirror_mode": {
    "name": "ipython",
    "version": 3
   },
   "file_extension": ".py",
   "mimetype": "text/x-python",
   "name": "python",
   "nbconvert_exporter": "python",
   "pygments_lexer": "ipython3",
   "version": "3.10.13"
  }
 },
 "nbformat": 4,
 "nbformat_minor": 2
}

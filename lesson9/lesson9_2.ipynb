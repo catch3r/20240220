{
 "cells": [
  {
   "cell_type": "code",
   "execution_count": 14,
   "metadata": {},
   "outputs": [],
   "source": [
    "class Person():\n",
    "    name222:str = '喔喔喔'\n",
    "\n",
    "    def __init__(self, n:str) -> None:\n",
    "        #建立實體屬性attribute\n",
    "        self.name = n\n",
    "\n",
    "    #實體的method\n",
    "    def exclaim(self):\n",
    "        print(f'我的名字是{self.name}')\n",
    "\n",
    "class Student(Person):\n",
    "    def __init__(self, na:str, ch:int=0, en:int=0) -> None:\n",
    "        super().__init__(n=na)\n",
    "        self.chinese = ch\n",
    "        self.english = en\n",
    "\n",
    "    def sum(self) -> int:\n",
    "        return self.chinese + self.english\n",
    "    \n",
    "    @property\n",
    "    def average(self) -> float:\n",
    "        return self.sum() / 2\n"
   ]
  },
  {
   "cell_type": "code",
   "execution_count": 15,
   "metadata": {},
   "outputs": [
    {
     "name": "stdout",
     "output_type": "stream",
     "text": [
      "<class '__main__.Student'>\n",
      "我的名字是傑尼龜\n",
      "93\n",
      "86\n",
      "179\n",
      "89.5\n"
     ]
    }
   ],
   "source": [
    "stu1 = Student(na='傑尼龜', ch=93, en=86)\n",
    "print(type(stu1))\n",
    "stu1.exclaim()\n",
    "print(stu1.chinese)\n",
    "print(stu1.english)\n",
    "print(stu1.sum())\n",
    "print(stu1.average)"
   ]
  },
  {
   "cell_type": "code",
   "execution_count": 16,
   "metadata": {},
   "outputs": [
    {
     "name": "stdout",
     "output_type": "stream",
     "text": [
      "<class '__main__.Student'>\n",
      "我的名字是妙蛙種子\n",
      "88\n",
      "97\n",
      "185\n",
      "92.5\n"
     ]
    }
   ],
   "source": [
    "stu2 = Student(na='妙蛙種子', ch=88, en=97)\n",
    "print(type(stu2))\n",
    "stu2.exclaim()\n",
    "print(stu2.chinese)\n",
    "print(stu2.english)\n",
    "print(stu2.sum())\n",
    "print(stu2.average)"
   ]
  }
 ],
 "metadata": {
  "kernelspec": {
   "display_name": "Python 3",
   "language": "python",
   "name": "python3"
  },
  "language_info": {
   "codemirror_mode": {
    "name": "ipython",
    "version": 3
   },
   "file_extension": ".py",
   "mimetype": "text/x-python",
   "name": "python",
   "nbconvert_exporter": "python",
   "pygments_lexer": "ipython3",
   "version": "3.10.13"
  }
 },
 "nbformat": 4,
 "nbformat_minor": 2
}

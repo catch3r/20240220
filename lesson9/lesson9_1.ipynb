{
 "cells": [
  {
   "cell_type": "code",
   "execution_count": 18,
   "metadata": {},
   "outputs": [],
   "source": [
    "class Person():\n",
    "    name222:str = '喔喔喔'\n",
    "\n",
    "    def __init__(self, n:str) -> None:\n",
    "        #建立實體屬性attribute\n",
    "        self.name = n\n",
    "\n",
    "    #實體的method\n",
    "    def exclaim(self):\n",
    "        print(f'我的名字是{self.name}')"
   ]
  },
  {
   "cell_type": "code",
   "execution_count": 19,
   "metadata": {},
   "outputs": [
    {
     "name": "stdout",
     "output_type": "stream",
     "text": [
      "<class '__main__.Person'>\n",
      "喔喔喔\n",
      "我是誰\n",
      "我的名字是我是誰\n"
     ]
    }
   ],
   "source": [
    "p1:Person = Person(n='我是誰')\n",
    "\n",
    "print(type(p1))\n",
    "\n",
    "print(p1.name222)\n",
    "print(p1.name)\n",
    "p1.exclaim()"
   ]
  },
  {
   "cell_type": "code",
   "execution_count": 21,
   "metadata": {},
   "outputs": [
    {
     "name": "stdout",
     "output_type": "stream",
     "text": [
      "<class '__main__.Person'>\n",
      "喔喔喔\n",
      "呆河馬\n",
      "我的名字是呆河馬\n"
     ]
    }
   ],
   "source": [
    "p2:Person = Person(n='呆河馬')\n",
    "\n",
    "print(type(p2))\n",
    "\n",
    "print(p2.name222)\n",
    "print(p2.name)\n",
    "p2.exclaim()"
   ]
  },
  {
   "cell_type": "code",
   "execution_count": 6,
   "metadata": {},
   "outputs": [
    {
     "name": "stdout",
     "output_type": "stream",
     "text": [
      "<class 'list'>\n"
     ]
    }
   ],
   "source": [
    "L1 = list()\n",
    "\n",
    "print(type(L1))"
   ]
  }
 ],
 "metadata": {
  "kernelspec": {
   "display_name": "Python 3",
   "language": "python",
   "name": "python3"
  },
  "language_info": {
   "codemirror_mode": {
    "name": "ipython",
    "version": 3
   },
   "file_extension": ".py",
   "mimetype": "text/x-python",
   "name": "python",
   "nbconvert_exporter": "python",
   "pygments_lexer": "ipython3",
   "version": "3.10.13"
  }
 },
 "nbformat": 4,
 "nbformat_minor": 2
}
